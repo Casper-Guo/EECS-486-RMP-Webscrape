{
 "cells": [
  {
   "cell_type": "code",
   "execution_count": 3,
   "metadata": {},
   "outputs": [],
   "source": [
    "import seaborn as sns\n",
    "import pandas as pd\n",
    "import matplotlib.pyplot as plt"
   ]
  },
  {
   "cell_type": "code",
   "execution_count": 4,
   "metadata": {},
   "outputs": [],
   "source": [
    "prof_file_path = \"Data/clean_prof_info.csv\"\n",
    "comment_file_path = \"Data/clean_ratings.csv\"\n"
   ]
  },
  {
   "cell_type": "code",
   "execution_count": 5,
   "metadata": {},
   "outputs": [],
   "source": [
    "df_prof = pd.read_csv(prof_file_path)\n",
    "df_comment = pd.read_csv(comment_file_path, parse_dates=[\"date\"])"
   ]
  },
  {
   "attachments": {},
   "cell_type": "markdown",
   "metadata": {},
   "source": [
    "## Introduction\n",
    "\n",
    "In this project, we analyze a dataset that contains information about University of Michigan professor ratings. More specifically, we want to build a machine learning model that studies the sentiment conveyed by the comments student gave to professors and use it to predict the sentiment of new comments. "
   ]
  },
  {
   "cell_type": "code",
   "execution_count": 120,
   "metadata": {},
   "outputs": [
    {
     "data": {
      "text/html": [
       "<div>\n",
       "<style scoped>\n",
       "    .dataframe tbody tr th:only-of-type {\n",
       "        vertical-align: middle;\n",
       "    }\n",
       "\n",
       "    .dataframe tbody tr th {\n",
       "        vertical-align: top;\n",
       "    }\n",
       "\n",
       "    .dataframe thead th {\n",
       "        text-align: right;\n",
       "    }\n",
       "</style>\n",
       "<table border=\"1\" class=\"dataframe\">\n",
       "  <thead>\n",
       "    <tr style=\"text-align: right;\">\n",
       "      <th></th>\n",
       "      <th>profID</th>\n",
       "      <th>attendanceMandatory</th>\n",
       "      <th>class</th>\n",
       "      <th>comment</th>\n",
       "      <th>date</th>\n",
       "      <th>difficultyRating</th>\n",
       "      <th>grade</th>\n",
       "      <th>helpfulRating</th>\n",
       "      <th>isForCredit</th>\n",
       "      <th>isForOnlineClass</th>\n",
       "      <th>ratingTags</th>\n",
       "      <th>wouldTakeAgain</th>\n",
       "    </tr>\n",
       "  </thead>\n",
       "  <tbody>\n",
       "    <tr>\n",
       "      <th>0</th>\n",
       "      <td>7964</td>\n",
       "      <td>False</td>\n",
       "      <td>ANTHRCUL101</td>\n",
       "      <td>Fricke is the man. Entire class probably took ...</td>\n",
       "      <td>2019-04-28 17:13:12</td>\n",
       "      <td>1.0</td>\n",
       "      <td>A</td>\n",
       "      <td>5.0</td>\n",
       "      <td>False</td>\n",
       "      <td>False</td>\n",
       "      <td>['Respected', 'Inspirational', 'Amazing Lectur...</td>\n",
       "      <td>True</td>\n",
       "    </tr>\n",
       "    <tr>\n",
       "      <th>1</th>\n",
       "      <td>7964</td>\n",
       "      <td>False</td>\n",
       "      <td>ANTHRO101</td>\n",
       "      <td>Tom Fricke is one of those professors you will...</td>\n",
       "      <td>2019-01-08 18:41:24</td>\n",
       "      <td>1.0</td>\n",
       "      <td>A+</td>\n",
       "      <td>5.0</td>\n",
       "      <td>False</td>\n",
       "      <td>False</td>\n",
       "      <td>['Accessible Outside Class', 'Hilarious', 'Ama...</td>\n",
       "      <td>True</td>\n",
       "    </tr>\n",
       "    <tr>\n",
       "      <th>2</th>\n",
       "      <td>7964</td>\n",
       "      <td>False</td>\n",
       "      <td>ANTHRCUL101</td>\n",
       "      <td>Prof. Fricke is amazing. He is hilarious and t...</td>\n",
       "      <td>2018-12-16 03:11:18</td>\n",
       "      <td>1.0</td>\n",
       "      <td>A</td>\n",
       "      <td>5.0</td>\n",
       "      <td>False</td>\n",
       "      <td>False</td>\n",
       "      <td>['Hilarious', 'Graded By Few Things', 'Caring']</td>\n",
       "      <td>True</td>\n",
       "    </tr>\n",
       "    <tr>\n",
       "      <th>3</th>\n",
       "      <td>7964</td>\n",
       "      <td>False</td>\n",
       "      <td>CULTANTHRO101</td>\n",
       "      <td>Such an easy class. Exams were exactly like th...</td>\n",
       "      <td>2018-12-12 10:03:19</td>\n",
       "      <td>1.0</td>\n",
       "      <td>A</td>\n",
       "      <td>5.0</td>\n",
       "      <td>False</td>\n",
       "      <td>False</td>\n",
       "      <td>['Accessible Outside Class', 'Graded By Few Th...</td>\n",
       "      <td>True</td>\n",
       "    </tr>\n",
       "    <tr>\n",
       "      <th>4</th>\n",
       "      <td>7964</td>\n",
       "      <td>False</td>\n",
       "      <td>ANTHRCUL101</td>\n",
       "      <td>Easiest class i have taken at UM. The exams to...</td>\n",
       "      <td>2018-12-11 16:33:00</td>\n",
       "      <td>1.0</td>\n",
       "      <td>A+</td>\n",
       "      <td>5.0</td>\n",
       "      <td>False</td>\n",
       "      <td>False</td>\n",
       "      <td>['Respected', 'Hilarious', 'Amazing Lectures']</td>\n",
       "      <td>True</td>\n",
       "    </tr>\n",
       "  </tbody>\n",
       "</table>\n",
       "</div>"
      ],
      "text/plain": [
       "   profID  attendanceMandatory          class  \\\n",
       "0    7964                False    ANTHRCUL101   \n",
       "1    7964                False      ANTHRO101   \n",
       "2    7964                False    ANTHRCUL101   \n",
       "3    7964                False  CULTANTHRO101   \n",
       "4    7964                False    ANTHRCUL101   \n",
       "\n",
       "                                             comment                date  \\\n",
       "0  Fricke is the man. Entire class probably took ... 2019-04-28 17:13:12   \n",
       "1  Tom Fricke is one of those professors you will... 2019-01-08 18:41:24   \n",
       "2  Prof. Fricke is amazing. He is hilarious and t... 2018-12-16 03:11:18   \n",
       "3  Such an easy class. Exams were exactly like th... 2018-12-12 10:03:19   \n",
       "4  Easiest class i have taken at UM. The exams to... 2018-12-11 16:33:00   \n",
       "\n",
       "   difficultyRating grade  helpfulRating  isForCredit  isForOnlineClass  \\\n",
       "0               1.0     A            5.0        False             False   \n",
       "1               1.0    A+            5.0        False             False   \n",
       "2               1.0     A            5.0        False             False   \n",
       "3               1.0     A            5.0        False             False   \n",
       "4               1.0    A+            5.0        False             False   \n",
       "\n",
       "                                          ratingTags  wouldTakeAgain  \n",
       "0  ['Respected', 'Inspirational', 'Amazing Lectur...            True  \n",
       "1  ['Accessible Outside Class', 'Hilarious', 'Ama...            True  \n",
       "2    ['Hilarious', 'Graded By Few Things', 'Caring']            True  \n",
       "3  ['Accessible Outside Class', 'Graded By Few Th...            True  \n",
       "4     ['Respected', 'Hilarious', 'Amazing Lectures']            True  "
      ]
     },
     "execution_count": 120,
     "metadata": {},
     "output_type": "execute_result"
    }
   ],
   "source": [
    "df_comment.head()"
   ]
  },
  {
   "attachments": {},
   "cell_type": "markdown",
   "metadata": {},
   "source": [
    "## Data\n",
    "\n",
    "The source of the data is from [Rate My Professor](https://www.ratemyprofessors.com/search/teachers?query=*&sid=1258), a website where students can give anoymous and objective opinions about their professors. To gather out dataset, we took several steps.\n",
    "\n",
    "### Step One\n",
    "First, we want to know how many UofM professors are recorded on the website. In particular, we want to find a list of professor IDs. In order to do this, we find all professors in UofM by applying school filter on the website. There are more than 5000 unique results for UofM professors. However, not all results were shown. We need to keep on clicking \"Show More\" button on the website to show more result. To do this more easily, we wrote a script \"scraper.py\" that utilizes python selenium library to click the button for us. The process of parsing the IDs were not very smooth. The script was interrupted a couple time due to denial of service by the website. We ended up parsing over 3000 professor IDs. \n",
    "\n",
    "### Step Two\n",
    "After getting professor IDs, we were able to retrieve other information as well. In data_acquisition.py, we iteratively made POST requests to the ratemyprofessor.com to retrieve raw information such as comments, ratings, subject name, and professor names. Then we did some data cleaning in data_cleaning.ipynb and put separated data into two CSV files: clean_prof_info.csv and clean_ratings.csv. clean_prof_info.csv contains 4612 rows and 8 columns of data:\n",
    "\n",
    "```profID```: Professor IDs.  \n",
    "```avgDifficulty```: Average diffculty score rated for a professor.  \n",
    "```avgRating```: Average rating for a professor.  \n",
    "```department```: The department a professor is from.  \n",
    "```firstName```: Professor's first name.  \n",
    "```lastName```: Professor's last name.  \n",
    "```numRatings```: Number of ratings this professor has.  \n",
    "```wouldTakeAgainPercent```: Percent of students who rated this professor that would take the his/hers class again.  \n",
    "```fullName```: Professor's full name.  \n",
    "\n",
    "clean_ratings.csv contains 52245 rows and 12 columns of data:\n",
    "\n",
    "```profID```: Professor IDs.  \n",
    "```attendanceMandatory```: Whether a class is mandatory for attendance.  \n",
    "```class```: The class number.  \n",
    "```comment```: The comment student wrote.  \n",
    "```date```: The data the comment was wrote.  \n",
    "```difficultyRating```: The difficulty of the class given by the student.  \n",
    "```grade```: Student's grade in that class.  \n",
    "```helpfulRating```: How helpful student think the professor was.  \n",
    "```isForCredit```: Is the class for credit.  \n",
    "```isForOnlineClass```: Is class remote.  \n",
    "```ratingTags```: Tags given by the student.  \n",
    "```wouldTakeAgain```: If the student would take the class again.  \n",
    "\n",
    "\n"
   ]
  },
  {
   "attachments": {},
   "cell_type": "markdown",
   "metadata": {},
   "source": [
    "### Interesting Data Samples\n",
    "\n",
    "First sample we examine utilizes data from 10 department with highest number of ratings. We think this sample would be useful because we would later build a machine learning model that examines whether the sentiment of a comment is positive or negative; the rating given by the students matter in this case since the rating score ranges fromn 1-5 with a segment of 0.1, the score itself is also objective, thus, we could need a boundry to define whether the sentiment under a particular range of ratings is positive, neutral, or negative. \n",
    "\n",
    "We decided to pick 10 department with highest number of rating because they have a rather complete data sample with a variety of ranges. The median of the rating is 3.9, which can be used as a general boundry. However, such use of boundry can be not representative in some cases as there are bias among university department. For instance, one department is less funded than another, resulting in fewer teaching resources and utimately led to bad ratings. \n",
    "\n",
    "Another interesting observation can be made from the box-plot. If we divide department into STEM group (subject related to science, technology, engineering, and mathematics) and non STEM group (in this case that would be Psychology, English, Social Work, Spanish, Political Science, and History), we noticed that STEM group has a noticable lower rating on average than non STEM group (median of 3.6 comparing to a median of 4.0)."
   ]
  },
  {
   "cell_type": "code",
   "execution_count": 14,
   "metadata": {},
   "outputs": [
    {
     "name": "stderr",
     "output_type": "stream",
     "text": [
      "/tmp/ipykernel_1851/1109509292.py:9: FutureWarning: The default value of numeric_only in DataFrame.median is deprecated. In a future version, it will default to False. In addition, specifying 'numeric_only=None' is deprecated. Select only valid columns or specify the value of numeric_only to silence this warning.\n",
      "  depart_sorted.median()\n",
      "/tmp/ipykernel_1851/1109509292.py:10: FutureWarning: The default value of numeric_only in DataFrame.median is deprecated. In a future version, it will default to False. In addition, specifying 'numeric_only=None' is deprecated. Select only valid columns or specify the value of numeric_only to silence this warning.\n",
      "  depart_sorted[depart_sorted['department'].isin(stem)].median()\n",
      "/tmp/ipykernel_1851/1109509292.py:11: FutureWarning: The default value of numeric_only in DataFrame.median is deprecated. In a future version, it will default to False. In addition, specifying 'numeric_only=None' is deprecated. Select only valid columns or specify the value of numeric_only to silence this warning.\n",
      "  depart_sorted[~depart_sorted['department'].isin(stem)].median()\n"
     ]
    },
    {
     "data": {
      "text/plain": [
       "avgRating    4.0\n",
       "dtype: float64"
      ]
     },
     "execution_count": 14,
     "metadata": {},
     "output_type": "execute_result"
    }
   ],
   "source": [
    "df_depart = df_prof['department'].value_counts()\n",
    "top_depart = df_depart.head(10).index.tolist()\n",
    "departs = df_prof[df_prof['department'].isin(top_depart)]\n",
    "departs = departs[['department', 'avgRating']]\n",
    "depart_sorted = departs.sort_values('avgRating', ascending=False)\n",
    "\n",
    "stem = ['Mathematics', 'Economics', 'Chemistry', 'Biology']\n",
    "\n",
    "depart_sorted.median()\n",
    "depart_sorted[depart_sorted['department'].isin(stem)].median()\n",
    "depart_sorted[~depart_sorted['department'].isin(stem)].median()"
   ]
  },
  {
   "cell_type": "code",
   "execution_count": 115,
   "metadata": {},
   "outputs": [
    {
     "data": {
      "text/plain": [
       "<AxesSubplot: xlabel='avgRating', ylabel='department'>"
      ]
     },
     "execution_count": 115,
     "metadata": {},
     "output_type": "execute_result"
    },
    {
     "data": {
      "image/png": "[encoded data removed]",
      "text/plain": [
       "<Figure size 640x480 with 1 Axes>"
      ]
     },
     "metadata": {},
     "output_type": "display_data"
    }
   ],
   "source": [
    "\n",
    "sns.boxplot(x='avgRating', y='department', data=depart_sorted, whis=[0, 100], width=0.6, palette='vlag')\n",
    "sns.stripplot(x='avgRating', y='department', data=depart_sorted, size=2, color='0.2', linewidth=0)"
   ]
  },
  {
   "cell_type": "code",
   "execution_count": 111,
   "metadata": {},
   "outputs": [
    {
     "data": {
      "text/html": [
       "<div>\n",
       "<style scoped>\n",
       "    .dataframe tbody tr th:only-of-type {\n",
       "        vertical-align: middle;\n",
       "    }\n",
       "\n",
       "    .dataframe tbody tr th {\n",
       "        vertical-align: top;\n",
       "    }\n",
       "\n",
       "    .dataframe thead th {\n",
       "        text-align: right;\n",
       "    }\n",
       "</style>\n",
       "<table border=\"1\" class=\"dataframe\">\n",
       "  <thead>\n",
       "    <tr style=\"text-align: right;\">\n",
       "      <th></th>\n",
       "      <th>avgRating</th>\n",
       "    </tr>\n",
       "    <tr>\n",
       "      <th>department</th>\n",
       "      <th></th>\n",
       "    </tr>\n",
       "  </thead>\n",
       "  <tbody>\n",
       "    <tr>\n",
       "      <th>Spanish</th>\n",
       "      <td>3.802516</td>\n",
       "    </tr>\n",
       "    <tr>\n",
       "      <th>Psychology</th>\n",
       "      <td>3.523243</td>\n",
       "    </tr>\n",
       "    <tr>\n",
       "      <th>History</th>\n",
       "      <td>3.509231</td>\n",
       "    </tr>\n",
       "    <tr>\n",
       "      <th>English</th>\n",
       "      <td>3.449451</td>\n",
       "    </tr>\n",
       "    <tr>\n",
       "      <th>Social Work</th>\n",
       "      <td>3.294737</td>\n",
       "    </tr>\n",
       "    <tr>\n",
       "      <th>Mathematics</th>\n",
       "      <td>3.252506</td>\n",
       "    </tr>\n",
       "    <tr>\n",
       "      <th>Biology</th>\n",
       "      <td>3.227660</td>\n",
       "    </tr>\n",
       "    <tr>\n",
       "      <th>Chemistry</th>\n",
       "      <td>3.161702</td>\n",
       "    </tr>\n",
       "    <tr>\n",
       "      <th>Economics</th>\n",
       "      <td>3.144444</td>\n",
       "    </tr>\n",
       "    <tr>\n",
       "      <th>Political Science</th>\n",
       "      <td>3.086316</td>\n",
       "    </tr>\n",
       "  </tbody>\n",
       "</table>\n",
       "</div>"
      ],
      "text/plain": [
       "                   avgRating\n",
       "department                  \n",
       "Spanish             3.802516\n",
       "Psychology          3.523243\n",
       "History             3.509231\n",
       "English             3.449451\n",
       "Social Work         3.294737\n",
       "Mathematics         3.252506\n",
       "Biology             3.227660\n",
       "Chemistry           3.161702\n",
       "Economics           3.144444\n",
       "Political Science   3.086316"
      ]
     },
     "execution_count": 111,
     "metadata": {},
     "output_type": "execute_result"
    }
   ],
   "source": [
    "departs.groupby('department').mean().sort_values('avgRating', ascending=False)"
   ]
  }
 ],
 "metadata": {
  "kernelspec": {
   "display_name": "Python 3",
   "language": "python",
   "name": "python3"
  },
  "language_info": {
   "codemirror_mode": {
    "name": "ipython",
    "version": 3
   },
   "file_extension": ".py",
   "mimetype": "text/x-python",
   "name": "python",
   "nbconvert_exporter": "python",
   "pygments_lexer": "ipython3",
   "version": "3.10.7"
  },
  "orig_nbformat": 4,
  "vscode": {
   "interpreter": {
    "hash": "b0fa6594d8f4cbf19f97940f81e996739fb7646882a419484c72d19e05852a7e"
   }
  }
 },
 "nbformat": 4,
 "nbformat_minor": 2
}
