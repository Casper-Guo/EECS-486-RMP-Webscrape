{
 "cells": [
  {
   "cell_type": "code",
   "execution_count": 48,
   "metadata": {},
   "outputs": [],
   "source": [
    "import pandas as pd"
   ]
  },
  {
   "cell_type": "code",
   "execution_count": 49,
   "metadata": {},
   "outputs": [],
   "source": [
    "df_prof = pd.read_csv(\"raw_prof_info.csv\")"
   ]
  },
  {
   "cell_type": "code",
   "execution_count": 51,
   "metadata": {},
   "outputs": [
    {
     "data": {
      "text/plain": [
       "profID                     int64\n",
       "avgDifficulty            float64\n",
       "avgRating                float64\n",
       "department                object\n",
       "firstName                 object\n",
       "lastName                  object\n",
       "numRatings                 int64\n",
       "wouldTakeAgainPercent    float64\n",
       "dtype: object"
      ]
     },
     "execution_count": 51,
     "metadata": {},
     "output_type": "execute_result"
    }
   ],
   "source": [
    "df_prof.dtypes"
   ]
  },
  {
   "cell_type": "code",
   "execution_count": 53,
   "metadata": {},
   "outputs": [],
   "source": [
    "df_prof = df_prof.drop_duplicates(subset=[\"profID\"])"
   ]
  },
  {
   "cell_type": "code",
   "execution_count": 56,
   "metadata": {},
   "outputs": [
    {
     "data": {
      "text/html": [
       "<div>\n",
       "<style scoped>\n",
       "    .dataframe tbody tr th:only-of-type {\n",
       "        vertical-align: middle;\n",
       "    }\n",
       "\n",
       "    .dataframe tbody tr th {\n",
       "        vertical-align: top;\n",
       "    }\n",
       "\n",
       "    .dataframe thead th {\n",
       "        text-align: right;\n",
       "    }\n",
       "</style>\n",
       "<table border=\"1\" class=\"dataframe\">\n",
       "  <thead>\n",
       "    <tr style=\"text-align: right;\">\n",
       "      <th></th>\n",
       "      <th>profID</th>\n",
       "      <th>avgDifficulty</th>\n",
       "      <th>avgRating</th>\n",
       "      <th>department</th>\n",
       "      <th>firstName</th>\n",
       "      <th>lastName</th>\n",
       "      <th>numRatings</th>\n",
       "      <th>wouldTakeAgainPercent</th>\n",
       "    </tr>\n",
       "  </thead>\n",
       "  <tbody>\n",
       "    <tr>\n",
       "      <th>0</th>\n",
       "      <td>7775</td>\n",
       "      <td>2.3</td>\n",
       "      <td>4.4</td>\n",
       "      <td>Mechanical Engineering</td>\n",
       "      <td>Alan</td>\n",
       "      <td>Wineman</td>\n",
       "      <td>34</td>\n",
       "      <td>80.0000</td>\n",
       "    </tr>\n",
       "    <tr>\n",
       "      <th>1</th>\n",
       "      <td>7964</td>\n",
       "      <td>1.6</td>\n",
       "      <td>4.5</td>\n",
       "      <td>Anthropology</td>\n",
       "      <td>Thomas</td>\n",
       "      <td>Fricke</td>\n",
       "      <td>114</td>\n",
       "      <td>95.4545</td>\n",
       "    </tr>\n",
       "    <tr>\n",
       "      <th>2</th>\n",
       "      <td>8045</td>\n",
       "      <td>2.6</td>\n",
       "      <td>3.2</td>\n",
       "      <td>Biology</td>\n",
       "      <td>Julian</td>\n",
       "      <td>Adams</td>\n",
       "      <td>22</td>\n",
       "      <td>-1.0000</td>\n",
       "    </tr>\n",
       "    <tr>\n",
       "      <th>3</th>\n",
       "      <td>8189</td>\n",
       "      <td>3.1</td>\n",
       "      <td>4.6</td>\n",
       "      <td>Music</td>\n",
       "      <td>Deborah</td>\n",
       "      <td>Chodacki</td>\n",
       "      <td>8</td>\n",
       "      <td>-1.0000</td>\n",
       "    </tr>\n",
       "    <tr>\n",
       "      <th>4</th>\n",
       "      <td>10260</td>\n",
       "      <td>4.0</td>\n",
       "      <td>2.3</td>\n",
       "      <td>Political Science</td>\n",
       "      <td>Arlene</td>\n",
       "      <td>Saxonhouse</td>\n",
       "      <td>86</td>\n",
       "      <td>66.6667</td>\n",
       "    </tr>\n",
       "  </tbody>\n",
       "</table>\n",
       "</div>"
      ],
      "text/plain": [
       "   profID  avgDifficulty  avgRating              department firstName  \\\n",
       "0    7775            2.3        4.4  Mechanical Engineering      Alan   \n",
       "1    7964            1.6        4.5            Anthropology    Thomas   \n",
       "2    8045            2.6        3.2                 Biology    Julian   \n",
       "3    8189            3.1        4.6                   Music   Deborah   \n",
       "4   10260            4.0        2.3       Political Science    Arlene   \n",
       "\n",
       "     lastName  numRatings  wouldTakeAgainPercent  \n",
       "0     Wineman          34                80.0000  \n",
       "1      Fricke         114                95.4545  \n",
       "2       Adams          22                -1.0000  \n",
       "3    Chodacki           8                -1.0000  \n",
       "4  Saxonhouse          86                66.6667  "
      ]
     },
     "execution_count": 56,
     "metadata": {},
     "output_type": "execute_result"
    }
   ],
   "source": [
    "df_prof.head()"
   ]
  },
  {
   "cell_type": "code",
   "execution_count": 57,
   "metadata": {},
   "outputs": [],
   "source": [
    "df_prof[\"numRatings\"] = df_prof[\"numRatings\"].astype(int)"
   ]
  },
  {
   "cell_type": "code",
   "execution_count": 58,
   "metadata": {},
   "outputs": [],
   "source": [
    "df_prof[\"wouldTakeAgainPercent\"] = df_prof[\"wouldTakeAgainPercent\"].apply(lambda x: int(x) if x >= 0 else float(\"nan\"))"
   ]
  },
  {
   "cell_type": "code",
   "execution_count": 60,
   "metadata": {},
   "outputs": [],
   "source": [
    "df_prof[\"fullName\"] = df_prof.apply(lambda row: row[\"firstName\"] + \" \" + row[\"lastName\"], axis=1)"
   ]
  },
  {
   "cell_type": "code",
   "execution_count": null,
   "metadata": {},
   "outputs": [],
   "source": [
    "df_ratings = pd.read_csv(\"raw_ratings.csv\", lineterminator=\"\\n\")"
   ]
  },
  {
   "cell_type": "code",
   "execution_count": null,
   "metadata": {},
   "outputs": [],
   "source": [
    "df_ratings = df_ratings.drop_duplicates()\n",
    "df_ratings.shape"
   ]
  },
  {
   "cell_type": "code",
   "execution_count": 62,
   "metadata": {},
   "outputs": [
    {
     "data": {
      "text/html": [
       "<div>\n",
       "<style scoped>\n",
       "    .dataframe tbody tr th:only-of-type {\n",
       "        vertical-align: middle;\n",
       "    }\n",
       "\n",
       "    .dataframe tbody tr th {\n",
       "        vertical-align: top;\n",
       "    }\n",
       "\n",
       "    .dataframe thead th {\n",
       "        text-align: right;\n",
       "    }\n",
       "</style>\n",
       "<table border=\"1\" class=\"dataframe\">\n",
       "  <thead>\n",
       "    <tr style=\"text-align: right;\">\n",
       "      <th></th>\n",
       "      <th>profID</th>\n",
       "      <th>attendanceMandatory</th>\n",
       "      <th>class</th>\n",
       "      <th>comment</th>\n",
       "      <th>date</th>\n",
       "      <th>difficultyRating</th>\n",
       "      <th>grade</th>\n",
       "      <th>helpfulRating</th>\n",
       "      <th>isForCredit</th>\n",
       "      <th>isForOnlineClass</th>\n",
       "      <th>ratingTags</th>\n",
       "      <th>wouldTakeAgain\\r</th>\n",
       "    </tr>\n",
       "  </thead>\n",
       "  <tbody>\n",
       "    <tr>\n",
       "      <th>0</th>\n",
       "      <td>7964</td>\n",
       "      <td>non mandatory</td>\n",
       "      <td>ANTHRCUL101</td>\n",
       "      <td>Fricke is the man. Entire class probably took ...</td>\n",
       "      <td>2019-04-28 17:13:12 +0000 UTC</td>\n",
       "      <td>1</td>\n",
       "      <td>A</td>\n",
       "      <td>5.0</td>\n",
       "      <td>True</td>\n",
       "      <td>False</td>\n",
       "      <td>Respected--Inspirational--Amazing lectures</td>\n",
       "      <td>TRUE\\r</td>\n",
       "    </tr>\n",
       "    <tr>\n",
       "      <th>1</th>\n",
       "      <td>7964</td>\n",
       "      <td>non mandatory</td>\n",
       "      <td>ANTHRO101</td>\n",
       "      <td>Tom Fricke is one of those professors you will...</td>\n",
       "      <td>2019-01-08 18:41:24 +0000 UTC</td>\n",
       "      <td>1</td>\n",
       "      <td>A+</td>\n",
       "      <td>5.0</td>\n",
       "      <td>True</td>\n",
       "      <td>False</td>\n",
       "      <td>ACCESSIBLE OUTSIDE CLASS--Hilarious--Amazing l...</td>\n",
       "      <td>TRUE\\r</td>\n",
       "    </tr>\n",
       "    <tr>\n",
       "      <th>2</th>\n",
       "      <td>7964</td>\n",
       "      <td>non mandatory</td>\n",
       "      <td>ANTHRCUL101</td>\n",
       "      <td>Prof. Fricke is amazing. He is hilarious and t...</td>\n",
       "      <td>2018-12-16 03:11:18 +0000 UTC</td>\n",
       "      <td>1</td>\n",
       "      <td>A</td>\n",
       "      <td>5.0</td>\n",
       "      <td>True</td>\n",
       "      <td>False</td>\n",
       "      <td>Hilarious--GRADED BY FEW THINGS--Caring</td>\n",
       "      <td>TRUE\\r</td>\n",
       "    </tr>\n",
       "    <tr>\n",
       "      <th>3</th>\n",
       "      <td>7964</td>\n",
       "      <td>non mandatory</td>\n",
       "      <td>CULTANTHRO101</td>\n",
       "      <td>Such an easy class. Exams were exactly like th...</td>\n",
       "      <td>2018-12-12 10:03:19 +0000 UTC</td>\n",
       "      <td>1</td>\n",
       "      <td>A</td>\n",
       "      <td>5.0</td>\n",
       "      <td>True</td>\n",
       "      <td>False</td>\n",
       "      <td>ACCESSIBLE OUTSIDE CLASS--GRADED BY FEW THINGS...</td>\n",
       "      <td>TRUE\\r</td>\n",
       "    </tr>\n",
       "    <tr>\n",
       "      <th>4</th>\n",
       "      <td>7964</td>\n",
       "      <td>non mandatory</td>\n",
       "      <td>ANTHRCUL101</td>\n",
       "      <td>Easiest class i have taken at UM. The exams to...</td>\n",
       "      <td>2018-12-11 16:33:00 +0000 UTC</td>\n",
       "      <td>1</td>\n",
       "      <td>A+</td>\n",
       "      <td>5.0</td>\n",
       "      <td>True</td>\n",
       "      <td>False</td>\n",
       "      <td>Respected--Hilarious--Amazing lectures</td>\n",
       "      <td>TRUE\\r</td>\n",
       "    </tr>\n",
       "  </tbody>\n",
       "</table>\n",
       "</div>"
      ],
      "text/plain": [
       "  profID attendanceMandatory          class  \\\n",
       "0   7964       non mandatory    ANTHRCUL101   \n",
       "1   7964       non mandatory      ANTHRO101   \n",
       "2   7964       non mandatory    ANTHRCUL101   \n",
       "3   7964       non mandatory  CULTANTHRO101   \n",
       "4   7964       non mandatory    ANTHRCUL101   \n",
       "\n",
       "                                             comment  \\\n",
       "0  Fricke is the man. Entire class probably took ...   \n",
       "1  Tom Fricke is one of those professors you will...   \n",
       "2  Prof. Fricke is amazing. He is hilarious and t...   \n",
       "3  Such an easy class. Exams were exactly like th...   \n",
       "4  Easiest class i have taken at UM. The exams to...   \n",
       "\n",
       "                            date difficultyRating grade  helpfulRating  \\\n",
       "0  2019-04-28 17:13:12 +0000 UTC                1     A            5.0   \n",
       "1  2019-01-08 18:41:24 +0000 UTC                1    A+            5.0   \n",
       "2  2018-12-16 03:11:18 +0000 UTC                1     A            5.0   \n",
       "3  2018-12-12 10:03:19 +0000 UTC                1     A            5.0   \n",
       "4  2018-12-11 16:33:00 +0000 UTC                1    A+            5.0   \n",
       "\n",
       "  isForCredit isForOnlineClass  \\\n",
       "0        True            False   \n",
       "1        True            False   \n",
       "2        True            False   \n",
       "3        True            False   \n",
       "4        True            False   \n",
       "\n",
       "                                          ratingTags wouldTakeAgain\\r  \n",
       "0         Respected--Inspirational--Amazing lectures           TRUE\\r  \n",
       "1  ACCESSIBLE OUTSIDE CLASS--Hilarious--Amazing l...           TRUE\\r  \n",
       "2            Hilarious--GRADED BY FEW THINGS--Caring           TRUE\\r  \n",
       "3  ACCESSIBLE OUTSIDE CLASS--GRADED BY FEW THINGS...           TRUE\\r  \n",
       "4             Respected--Hilarious--Amazing lectures           TRUE\\r  "
      ]
     },
     "execution_count": 62,
     "metadata": {},
     "output_type": "execute_result"
    }
   ],
   "source": [
    "df_ratings.head()"
   ]
  },
  {
   "cell_type": "code",
   "execution_count": 69,
   "metadata": {},
   "outputs": [
    {
     "data": {
      "text/plain": [
       "profID                  object\n",
       "attendanceMandatory     object\n",
       "class                   object\n",
       "comment                 object\n",
       "date                    object\n",
       "difficultyRating        object\n",
       "grade                   object\n",
       "helpfulRating          float64\n",
       "isForCredit             object\n",
       "isForOnlineClass        object\n",
       "ratingTags              object\n",
       "wouldTakeAgain\\r        object\n",
       "dtype: object"
      ]
     },
     "execution_count": 69,
     "metadata": {},
     "output_type": "execute_result"
    }
   ],
   "source": [
    "df_ratings.dtypes"
   ]
  },
  {
   "cell_type": "code",
   "execution_count": 71,
   "metadata": {},
   "outputs": [],
   "source": [
    "df_ratings = df_ratings[df_ratings.apply(lambda row: row.loc[\"profID\"].isdigit(), axis=1)]"
   ]
  },
  {
   "cell_type": "code",
   "execution_count": 72,
   "metadata": {},
   "outputs": [],
   "source": [
    "df_ratings[\"profID\"] = df_ratings[\"profID\"].astype(int)"
   ]
  },
  {
   "cell_type": "code",
   "execution_count": 73,
   "metadata": {},
   "outputs": [],
   "source": [
    "df_ratings = df_ratings.rename(columns={\"wouldTakeAgain\\r\":\"wouldTakeAgain\"})"
   ]
  },
  {
   "cell_type": "code",
   "execution_count": 87,
   "metadata": {},
   "outputs": [],
   "source": [
    "df_ratings = df_ratings.dropna(subset=\"comment\")"
   ]
  },
  {
   "cell_type": "code",
   "execution_count": 96,
   "metadata": {},
   "outputs": [],
   "source": [
    "df_ratings[\"isForCredit\"] = df_ratings[\"isForCredit\"].astype(bool)\n",
    "df_ratings[\"isForOnlineClass\"] = df_ratings[\"isForOnlineClass\"].astype(bool)\n",
    "df_ratings[\"wouldTakeAgain\"] = df_ratings[\"wouldTakeAgain\"].astype(bool)"
   ]
  },
  {
   "cell_type": "code",
   "execution_count": 99,
   "metadata": {},
   "outputs": [],
   "source": [
    "def convert_mandatory(x):\n",
    "    if isinstance(x, str):\n",
    "        if x.upper().startswith('N'):\n",
    "            return False\n",
    "        else:\n",
    "            return True\n",
    "\n",
    "df_ratings[\"attendanceMandatory\"] = df_ratings[\"attendanceMandatory\"].apply(convert_mandatory)"
   ]
  },
  {
   "cell_type": "code",
   "execution_count": 101,
   "metadata": {},
   "outputs": [],
   "source": [
    "df_ratings[\"attendanceMandatory\"] = df_ratings[\"attendanceMandatory\"].astype(bool)"
   ]
  },
  {
   "cell_type": "code",
   "execution_count": 104,
   "metadata": {},
   "outputs": [],
   "source": [
    "df_ratings[\"difficultyRating\"] = df_ratings[\"difficultyRating\"].astype(float)"
   ]
  },
  {
   "cell_type": "code",
   "execution_count": 118,
   "metadata": {},
   "outputs": [],
   "source": [
    "def convert_date(x):\n",
    "    if isinstance(x, str):\n",
    "        return pd.to_datetime(x[:(x.find('+') - 1)])\n",
    "    else:\n",
    "        return pd.NaT\n",
    "    \n",
    "df_ratings[\"date\"] = df_ratings[\"date\"].apply(convert_date)"
   ]
  },
  {
   "cell_type": "code",
   "execution_count": 124,
   "metadata": {},
   "outputs": [],
   "source": [
    "def convert_tags(x):\n",
    "    if isinstance(x, str):\n",
    "        tags = x.strip().split(\"--\")\n",
    "        return [tag.title() for tag in tags]\n",
    "    else:\n",
    "        return None\n",
    "\n",
    "\n",
    "df_ratings[\"ratingTags\"] = df_ratings[\"ratingTags\"].apply(convert_tags)"
   ]
  },
  {
   "cell_type": "code",
   "execution_count": 145,
   "metadata": {},
   "outputs": [],
   "source": [
    "df_prof.to_csv(\"clean_prof_info.csv\", index=False)\n",
    "df_ratings.to_csv(\"clean_ratings.csv\", index=False)"
   ]
  }
 ],
 "metadata": {
  "kernelspec": {
   "display_name": "base",
   "language": "python",
   "name": "python3"
  },
  "language_info": {
   "codemirror_mode": {
    "name": "ipython",
    "version": 3
   },
   "file_extension": ".py",
   "mimetype": "text/x-python",
   "name": "python",
   "nbconvert_exporter": "python",
   "pygments_lexer": "ipython3",
   "version": "3.8.15"
  },
  "orig_nbformat": 4
 },
 "nbformat": 4,
 "nbformat_minor": 2
}
